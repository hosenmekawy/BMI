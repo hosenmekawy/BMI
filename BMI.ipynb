{
 "cells": [
  {
   "cell_type": "code",
   "execution_count": 6,
   "id": "578965ae",
   "metadata": {},
   "outputs": [
    {
     "name": "stdout",
     "output_type": "stream",
     "text": [
      "Enter your ID: 4211005\n",
      "Enter your name: mekawy\n",
      "Enter your age: 20\n",
      "Enter your weight in kilograms: 100\n",
      "Enter your height in centimeters: 175\n",
      " hello mr  mekawy Your BMI value is  32.6530612244898  and you are:  OBESE\n"
     ]
    }
   ],
   "source": [
    "# input user details \n",
    "id = input(\"Enter your univ ID: \")\n",
    "name = input(\"Enter your username : \")\n",
    "age = int(input(\"Enter your age: \"))\n",
    "weight = float(input(\"Enter your weight in kilograms: \"))\n",
    "height = float(input(\"Enter your height in centimeters: \"))\n",
    "\n",
    "# check if age is within range\n",
    "if age < 18 or age > 65:\n",
    "    print(\"Sorry, this program is only for individuals between the ages of 18 and 65.\")\n",
    "else:\n",
    "    # convert height from centimeters to meters\n",
    "    height_m = height / 100\n",
    "\n",
    "    # calculate BMI\n",
    "    bmi = weight / (height_m ** 2)\n",
    "\n",
    "    # determine weight status based on BMI value\n",
    "    if bmi <= 18.5:\n",
    "        status = \"UNDERWEIGHT\"\n",
    "    elif bmi <= 24.9:\n",
    "        status = \"NORMAL WEIGHT\"\n",
    "    elif bmi <= 29.9:\n",
    "        status = \"OVERWEIGHT\"\n",
    "    else:\n",
    "        status = \"OBESE\"\n",
    "\n",
    "    # print BMI value and weight status\n",
    "    print(\" hello mr \" , name , \"Your BMI value is \" , bmi  ,\" and you are: \" , status )\n"
   ]
  },
  {
   "cell_type": "code",
   "execution_count": null,
   "id": "10771ced",
   "metadata": {},
   "outputs": [],
   "source": []
  }
 ],
 "metadata": {
  "kernelspec": {
   "display_name": "Python 3 (ipykernel)",
   "language": "python",
   "name": "python3"
  },
  "language_info": {
   "codemirror_mode": {
    "name": "ipython",
    "version": 3
   },
   "file_extension": ".py",
   "mimetype": "text/x-python",
   "name": "python",
   "nbconvert_exporter": "python",
   "pygments_lexer": "ipython3",
   "version": "3.9.12"
  }
 },
 "nbformat": 4,
 "nbformat_minor": 5
}
